{
 "cells": [
  {
   "cell_type": "code",
   "execution_count": 1,
   "metadata": {},
   "outputs": [
    {
     "name": "stderr",
     "output_type": "stream",
     "text": [
      "C:\\Users\\ujjal\\Anaconda3\\lib\\site-packages\\distributed\\utils.py:133: RuntimeWarning: Couldn't detect a suitable IP address for reaching '8.8.8.8', defaulting to '127.0.0.1': [WinError 10065] A socket operation was attempted to an unreachable host\n",
      "  RuntimeWarning,\n"
     ]
    }
   ],
   "source": [
    "import pandas as pd\n",
    "import numpy as np\n",
    "import matplotlib.pyplot as plt\n",
    "import sklearn as sk\n",
    "import seaborn as sns\n",
    "from sklearn.utils import resample\n",
    "from sklearn.model_selection import train_test_split,StratifiedKFold\n",
    "from sklearn.metrics import auc\n",
    "from sklearn.neighbors import KNeighborsClassifier\n",
    "from sklearn.linear_model import LogisticRegression\n",
    "import xgboost"
   ]
  },
  {
   "cell_type": "code",
   "execution_count": 2,
   "metadata": {
    "scrolled": true
   },
   "outputs": [
    {
     "data": {
      "text/html": [
       "<div>\n",
       "<style scoped>\n",
       "    .dataframe tbody tr th:only-of-type {\n",
       "        vertical-align: middle;\n",
       "    }\n",
       "\n",
       "    .dataframe tbody tr th {\n",
       "        vertical-align: top;\n",
       "    }\n",
       "\n",
       "    .dataframe thead th {\n",
       "        text-align: right;\n",
       "    }\n",
       "</style>\n",
       "<table border=\"1\" class=\"dataframe\">\n",
       "  <thead>\n",
       "    <tr style=\"text-align: right;\">\n",
       "      <th></th>\n",
       "      <th>Customer Id</th>\n",
       "      <th>YearOfObservation</th>\n",
       "      <th>Insured_Period</th>\n",
       "      <th>Residential</th>\n",
       "      <th>Building_Painted</th>\n",
       "      <th>Building_Fenced</th>\n",
       "      <th>Settlement</th>\n",
       "      <th>Building Dimension</th>\n",
       "      <th>Building_Type</th>\n",
       "      <th>Date_of_Occupancy</th>\n",
       "      <th>...</th>\n",
       "      <th>NumberOfWindows_1</th>\n",
       "      <th>NumberOfWindows_2</th>\n",
       "      <th>NumberOfWindows_3</th>\n",
       "      <th>NumberOfWindows_4</th>\n",
       "      <th>NumberOfWindows_5</th>\n",
       "      <th>NumberOfWindows_6</th>\n",
       "      <th>NumberOfWindows_7</th>\n",
       "      <th>NumberOfWindows_8</th>\n",
       "      <th>NumberOfWindows_9</th>\n",
       "      <th>NumberOfWindows_&gt;=10</th>\n",
       "    </tr>\n",
       "  </thead>\n",
       "  <tbody>\n",
       "    <tr>\n",
       "      <td>0</td>\n",
       "      <td>H14663</td>\n",
       "      <td>2013</td>\n",
       "      <td>1.0</td>\n",
       "      <td>0</td>\n",
       "      <td>0</td>\n",
       "      <td>1</td>\n",
       "      <td>1</td>\n",
       "      <td>290.0</td>\n",
       "      <td>1</td>\n",
       "      <td>1960.0</td>\n",
       "      <td>...</td>\n",
       "      <td>0</td>\n",
       "      <td>0</td>\n",
       "      <td>0</td>\n",
       "      <td>0</td>\n",
       "      <td>0</td>\n",
       "      <td>0</td>\n",
       "      <td>0</td>\n",
       "      <td>0</td>\n",
       "      <td>0</td>\n",
       "      <td>0</td>\n",
       "    </tr>\n",
       "    <tr>\n",
       "      <td>1</td>\n",
       "      <td>H2037</td>\n",
       "      <td>2015</td>\n",
       "      <td>1.0</td>\n",
       "      <td>0</td>\n",
       "      <td>1</td>\n",
       "      <td>0</td>\n",
       "      <td>0</td>\n",
       "      <td>490.0</td>\n",
       "      <td>1</td>\n",
       "      <td>1850.0</td>\n",
       "      <td>...</td>\n",
       "      <td>0</td>\n",
       "      <td>0</td>\n",
       "      <td>0</td>\n",
       "      <td>1</td>\n",
       "      <td>0</td>\n",
       "      <td>0</td>\n",
       "      <td>0</td>\n",
       "      <td>0</td>\n",
       "      <td>0</td>\n",
       "      <td>0</td>\n",
       "    </tr>\n",
       "  </tbody>\n",
       "</table>\n",
       "<p>2 rows × 23 columns</p>\n",
       "</div>"
      ],
      "text/plain": [
       "  Customer Id  YearOfObservation  Insured_Period  Residential  \\\n",
       "0      H14663               2013             1.0            0   \n",
       "1       H2037               2015             1.0            0   \n",
       "\n",
       "   Building_Painted  Building_Fenced  Settlement  Building Dimension  \\\n",
       "0                 0                1           1               290.0   \n",
       "1                 1                0           0               490.0   \n",
       "\n",
       "   Building_Type  Date_of_Occupancy  ...  NumberOfWindows_1  \\\n",
       "0              1             1960.0  ...                  0   \n",
       "1              1             1850.0  ...                  0   \n",
       "\n",
       "   NumberOfWindows_2  NumberOfWindows_3  NumberOfWindows_4  NumberOfWindows_5  \\\n",
       "0                  0                  0                  0                  0   \n",
       "1                  0                  0                  1                  0   \n",
       "\n",
       "   NumberOfWindows_6  NumberOfWindows_7  NumberOfWindows_8  NumberOfWindows_9  \\\n",
       "0                  0                  0                  0                  0   \n",
       "1                  0                  0                  0                  0   \n",
       "\n",
       "   NumberOfWindows_>=10  \n",
       "0                     0  \n",
       "1                     0  \n",
       "\n",
       "[2 rows x 23 columns]"
      ]
     },
     "execution_count": 2,
     "metadata": {},
     "output_type": "execute_result"
    }
   ],
   "source": [
    "df =pd.read_csv('train.csv')\n",
    "test =pd.read_csv('test.csv')\n",
    "\n",
    "df.head(2)"
   ]
  },
  {
   "cell_type": "code",
   "execution_count": 3,
   "metadata": {},
   "outputs": [
    {
     "data": {
      "text/plain": [
       "Customer Id              object\n",
       "YearOfObservation         int64\n",
       "Insured_Period          float64\n",
       "Residential               int64\n",
       "Building_Painted          int64\n",
       "Building_Fenced           int64\n",
       "Settlement                int64\n",
       "Building Dimension      float64\n",
       "Building_Type             int64\n",
       "Date_of_Occupancy       float64\n",
       "Geo_Code                  int64\n",
       "Claim                     int64\n",
       "NumberOfWindows_   .      int64\n",
       "NumberOfWindows_1         int64\n",
       "NumberOfWindows_2         int64\n",
       "NumberOfWindows_3         int64\n",
       "NumberOfWindows_4         int64\n",
       "NumberOfWindows_5         int64\n",
       "NumberOfWindows_6         int64\n",
       "NumberOfWindows_7         int64\n",
       "NumberOfWindows_8         int64\n",
       "NumberOfWindows_9         int64\n",
       "NumberOfWindows_>=10      int64\n",
       "dtype: object"
      ]
     },
     "execution_count": 3,
     "metadata": {},
     "output_type": "execute_result"
    }
   ],
   "source": [
    "df.dtypes"
   ]
  },
  {
   "cell_type": "code",
   "execution_count": 4,
   "metadata": {},
   "outputs": [],
   "source": [
    "class_0,class_1=df.Claim.value_counts()\n",
    "minor=df[df.Claim==1]\n",
    "major=df[df.Claim==0]\n",
    "df_upsample=resample(minor,replace=True,n_samples=class_0)\n",
    "df_upsample=pd.concat([major,df_upsample])"
   ]
  },
  {
   "cell_type": "code",
   "execution_count": 5,
   "metadata": {},
   "outputs": [],
   "source": [
    "df_upsample.reset_index(drop=True,inplace=True)"
   ]
  },
  {
   "cell_type": "code",
   "execution_count": 7,
   "metadata": {},
   "outputs": [],
   "source": [
    "x=df.drop(columns=['Customer Id','Claim'])\n",
    "y=df['Claim']\n"
   ]
  },
  {
   "cell_type": "code",
   "execution_count": 9,
   "metadata": {},
   "outputs": [],
   "source": [
    "x_train,x_test,y_train,y_test=train_test_split(x,y,test_size=0.3)"
   ]
  },
  {
   "cell_type": "code",
   "execution_count": 10,
   "metadata": {
    "scrolled": false
   },
   "outputs": [
    {
     "name": "stdout",
     "output_type": "stream",
     "text": [
      "0.75512104283054\n",
      "0.6557106440136149\n",
      "0.75512104283054\n",
      "0.6557106440136149\n",
      "0.75512104283054\n",
      "0.6557106440136149\n"
     ]
    }
   ],
   "source": [
    "from sklearn.metrics import roc_auc_score\n",
    "l=[100,200,300]\n",
    "for i in range(3):\n",
    "    model=xgboost.XGBClassifier(max_depth=l[i],)\n",
    "    model.fit(x_train,y_train)\n",
    "    y_=model.predict(x_test)\n",
    "    print(np.mean(y_==y_test))\n",
    "    print(roc_auc_score(y_test, model.predict_proba(x_test)[:, 1]))"
   ]
  },
  {
   "cell_type": "code",
   "execution_count": 22,
   "metadata": {},
   "outputs": [],
   "source": [
    "model=KNeighborsClassifier(n_neighbors=5\n",
    "                          )"
   ]
  },
  {
   "cell_type": "code",
   "execution_count": 23,
   "metadata": {},
   "outputs": [],
   "source": [
    "#KNeighborsClassifier?"
   ]
  },
  {
   "cell_type": "code",
   "execution_count": 24,
   "metadata": {},
   "outputs": [
    {
     "data": {
      "text/plain": [
       "KNeighborsClassifier(algorithm='auto', leaf_size=30, metric='minkowski',\n",
       "                     metric_params=None, n_jobs=None, n_neighbors=5, p=2,\n",
       "                     weights='uniform')"
      ]
     },
     "execution_count": 24,
     "metadata": {},
     "output_type": "execute_result"
    }
   ],
   "source": [
    "model.fit(x_train,y_train)"
   ]
  },
  {
   "cell_type": "code",
   "execution_count": 25,
   "metadata": {},
   "outputs": [],
   "source": [
    "y_=model.predict(x_test)"
   ]
  },
  {
   "cell_type": "code",
   "execution_count": 14,
   "metadata": {},
   "outputs": [
    {
     "data": {
      "text/plain": [
       "0.7439478584729982"
      ]
     },
     "execution_count": 14,
     "metadata": {},
     "output_type": "execute_result"
    }
   ],
   "source": [
    "np.mean(y_==y_test)"
   ]
  },
  {
   "cell_type": "code",
   "execution_count": 15,
   "metadata": {},
   "outputs": [],
   "source": [
    "auc?"
   ]
  },
  {
   "cell_type": "code",
   "execution_count": 30,
   "metadata": {},
   "outputs": [],
   "source": [
    "from sklearn.metrics import roc_curve\n",
    "from sklearn.metrics import roc_auc_score\n",
    "import matplotlib.pyplot as plt\n",
    "def auc_csore(probs,test):\n",
    "    probs = probs[:, 1]\n",
    "    auc = roc_auc_score(test, probs)\n",
    "    print(' AUC: %.3f' % auc)\n",
    "    fpr, tpr, thresholds = roc_curve(test, probs)\n",
    "    #print(fpr,tpr,thresholds)\n",
    "    plt.plot([0, 1], [0, 1], linestyle='--')\n",
    "    plt.plot(fpr, tpr, marker='.')"
   ]
  },
  {
   "cell_type": "code",
   "execution_count": 56,
   "metadata": {},
   "outputs": [
    {
     "name": "stdout",
     "output_type": "stream",
     "text": [
      "0.7811918063314711\n",
      "0.7080553734151229\n",
      "0.7839851024208566\n",
      "0.7118462094703493\n",
      "0.7830540037243948\n",
      "0.711063039654866\n"
     ]
    },
    {
     "name": "stderr",
     "output_type": "stream",
     "text": [
      "C:\\Users\\ujjal\\Anaconda3\\lib\\site-packages\\sklearn\\linear_model\\logistic.py:432: FutureWarning: Default solver will be changed to 'lbfgs' in 0.22. Specify a solver to silence this warning.\n",
      "  FutureWarning)\n",
      "C:\\Users\\ujjal\\Anaconda3\\lib\\site-packages\\sklearn\\linear_model\\logistic.py:432: FutureWarning: Default solver will be changed to 'lbfgs' in 0.22. Specify a solver to silence this warning.\n",
      "  FutureWarning)\n",
      "C:\\Users\\ujjal\\Anaconda3\\lib\\site-packages\\sklearn\\linear_model\\logistic.py:432: FutureWarning: Default solver will be changed to 'lbfgs' in 0.22. Specify a solver to silence this warning.\n",
      "  FutureWarning)\n"
     ]
    }
   ],
   "source": [
    "c=[0.0001,0.01,0.1]\n",
    "for i in tol:\n",
    "    model=LogisticRegression(tol=i)\n",
    "    model.fit(x_train,y_train)\n",
    "    y_=model.predict(x_test)\n",
    "    print(np.mean(y_==y_test))\n",
    "    pred=model.predict_proba(x_test)\n",
    "\n",
    "    print(roc_auc_score(y_test, model.predict_proba(x_test)[:, 1]))"
   ]
  },
  {
   "cell_type": "code",
   "execution_count": 24,
   "metadata": {},
   "outputs": [],
   "source": [
    "from catboost import CatBoostClassifier \n",
    "model=CatBoostClassifier(iterations=200, #leaf_estimation_iterations=10,#800\n",
    "                              learning_rate=0.1,\n",
    "                              depth=6,#loss_function='MultiClass',#,scale_pos_weight=200,\n",
    "                             #l2_leaf_reg=5,\n",
    "                             bootstrap_type='Bernoulli',\n",
    "                              subsample=0.9,\n",
    "                              eval_metric='AUC',\n",
    "                              metric_period=20,\n",
    "                                   #class_weight s=0,\n",
    "                              #od_type='Iter',\n",
    "                              #od_wait=45,\n",
    "                              #random_seed=10,\n",
    "                         plot\n",
    "                              allow_writing_files=False)"
   ]
  },
  {
   "cell_type": "code",
   "execution_count": 25,
   "metadata": {},
   "outputs": [
    {
     "name": "stdout",
     "output_type": "stream",
     "text": [
      "0:\ttest: 0.6600628\tbest: 0.6600628 (0)\ttotal: 8.99ms\tremaining: 1.79s\n",
      "20:\ttest: 0.7096119\tbest: 0.7096119 (20)\ttotal: 112ms\tremaining: 954ms\n",
      "40:\ttest: 0.7122640\tbest: 0.7122640 (40)\ttotal: 208ms\tremaining: 806ms\n",
      "60:\ttest: 0.7121906\tbest: 0.7122640 (40)\ttotal: 298ms\tremaining: 680ms\n",
      "80:\ttest: 0.7110550\tbest: 0.7122640 (40)\ttotal: 385ms\tremaining: 565ms\n",
      "100:\ttest: 0.7070387\tbest: 0.7122640 (40)\ttotal: 485ms\tremaining: 475ms\n",
      "120:\ttest: 0.7053248\tbest: 0.7122640 (40)\ttotal: 578ms\tremaining: 377ms\n",
      "140:\ttest: 0.7035290\tbest: 0.7122640 (40)\ttotal: 673ms\tremaining: 282ms\n",
      "160:\ttest: 0.7027563\tbest: 0.7122640 (40)\ttotal: 778ms\tremaining: 188ms\n",
      "180:\ttest: 0.6982525\tbest: 0.7122640 (40)\ttotal: 882ms\tremaining: 92.6ms\n",
      "199:\ttest: 0.6945888\tbest: 0.7122640 (40)\ttotal: 975ms\tremaining: 0us\n",
      "\n",
      "bestTest = 0.7122640374\n",
      "bestIteration = 40\n",
      "\n",
      "Shrink model to first 41 iterations.\n"
     ]
    },
    {
     "data": {
      "text/plain": [
       "<catboost.core.CatBoostClassifier at 0x1dd5cedebc8>"
      ]
     },
     "execution_count": 25,
     "metadata": {},
     "output_type": "execute_result"
    }
   ],
   "source": [
    "model.fit(x_train, y_train, eval_set=(x_test, y_test))"
   ]
  },
  {
   "cell_type": "code",
   "execution_count": 27,
   "metadata": {},
   "outputs": [],
   "source": [
    "test.drop(columns=['Customer Id','Claim'],inplace=True)"
   ]
  },
  {
   "cell_type": "code",
   "execution_count": 28,
   "metadata": {},
   "outputs": [],
   "source": [
    "y=model.predict(test)"
   ]
  },
  {
   "cell_type": "code",
   "execution_count": 29,
   "metadata": {},
   "outputs": [],
   "source": [
    "z=pd.read_csv('sub.csv')"
   ]
  },
  {
   "cell_type": "code",
   "execution_count": 24,
   "metadata": {},
   "outputs": [],
   "source": [
    "xgboost.XGBClassifier?"
   ]
  },
  {
   "cell_type": "code",
   "execution_count": 66,
   "metadata": {},
   "outputs": [],
   "source": [
    "z.Claim=y"
   ]
  },
  {
   "cell_type": "code",
   "execution_count": 67,
   "metadata": {},
   "outputs": [],
   "source": [
    "z.to_csv('sub1.csv',index=False)"
   ]
  },
  {
   "cell_type": "code",
   "execution_count": null,
   "metadata": {},
   "outputs": [],
   "source": [
    "0.543586032349121"
   ]
  },
  {
   "cell_type": "code",
   "execution_count": 68,
   "metadata": {},
   "outputs": [
    {
     "data": {
      "text/plain": [
       "array([[0.89642098, 0.10357902],\n",
       "       [0.8965798 , 0.1034202 ],\n",
       "       [0.90625535, 0.09374465],\n",
       "       ...,\n",
       "       [0.78477947, 0.21522053],\n",
       "       [0.77101561, 0.22898439],\n",
       "       [0.77377487, 0.22622513]])"
      ]
     },
     "execution_count": 68,
     "metadata": {},
     "output_type": "execute_result"
    }
   ],
   "source": [
    "model.predict_proba(test)"
   ]
  }
 ],
 "metadata": {
  "kernelspec": {
   "display_name": "Python 3",
   "language": "python",
   "name": "python3"
  },
  "language_info": {
   "codemirror_mode": {
    "name": "ipython",
    "version": 3
   },
   "file_extension": ".py",
   "mimetype": "text/x-python",
   "name": "python",
   "nbconvert_exporter": "python",
   "pygments_lexer": "ipython3",
   "version": "3.7.4"
  }
 },
 "nbformat": 4,
 "nbformat_minor": 2
}
